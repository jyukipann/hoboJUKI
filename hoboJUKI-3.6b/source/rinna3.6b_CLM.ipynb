{
 "cells": [
  {
   "cell_type": "code",
   "execution_count": 1,
   "id": "04cccbf4",
   "metadata": {},
   "outputs": [
    {
     "name": "stdout",
     "output_type": "stream",
     "text": [
      "\n",
      "===================================BUG REPORT===================================\n",
      "Welcome to bitsandbytes. For bug reports, please run\n",
      "\n",
      "python -m bitsandbytes\n",
      "\n",
      " and submit this information together with your error trace to: https://github.com/TimDettmers/bitsandbytes/issues\n",
      "================================================================================\n",
      "bin /home1/tanimoto.j/anaconda3/envs/llm/lib/python3.10/site-packages/bitsandbytes/libbitsandbytes_cuda114.so\n",
      "CUDA_SETUP: WARNING! libcudart.so not found in any environmental path. Searching in backup paths...\n",
      "CUDA SETUP: CUDA runtime path found: /usr/local/cuda/lib64/libcudart.so\n",
      "CUDA SETUP: Highest compute capability among GPUs detected: 8.6\n",
      "CUDA SETUP: Detected CUDA version 114\n",
      "CUDA SETUP: Loading binary /home1/tanimoto.j/anaconda3/envs/llm/lib/python3.10/site-packages/bitsandbytes/libbitsandbytes_cuda114.so...\n"
     ]
    },
    {
     "name": "stderr",
     "output_type": "stream",
     "text": [
      "/home1/tanimoto.j/anaconda3/envs/llm/lib/python3.10/site-packages/bitsandbytes/cuda_setup/main.py:149: UserWarning: /home1/tanimoto.j/anaconda3/envs/llm did not contain ['libcudart.so', 'libcudart.so.11.0', 'libcudart.so.12.0'] as expected! Searching further paths...\n",
      "  warn(msg)\n",
      "/home1/tanimoto.j/anaconda3/envs/llm/lib/python3.10/site-packages/bitsandbytes/cuda_setup/main.py:149: UserWarning: WARNING: The following directories listed in your path were found to be non-existent: {PosixPath('[%y/%m/%d %T] ')}\n",
      "  warn(msg)\n",
      "/home1/tanimoto.j/anaconda3/envs/llm/lib/python3.10/site-packages/bitsandbytes/cuda_setup/main.py:149: UserWarning: WARNING: The following directories listed in your path were found to be non-existent: {PosixPath('module'), PosixPath('//matplotlib_inline.backend_inline')}\n",
      "  warn(msg)\n",
      "/home1/tanimoto.j/anaconda3/envs/llm/lib/python3.10/site-packages/bitsandbytes/cuda_setup/main.py:149: UserWarning: Found duplicate ['libcudart.so', 'libcudart.so.11.0', 'libcudart.so.12.0'] files: {PosixPath('/usr/local/cuda/lib64/libcudart.so'), PosixPath('/usr/local/cuda/lib64/libcudart.so.11.0')}.. We'll flip a coin and try one of these, in order to fail forward.\n",
      "Either way, this might cause trouble in the future:\n",
      "If you get `CUDA error: invalid device function` errors, the above might be the cause and the solution is to make sure only one ['libcudart.so', 'libcudart.so.11.0', 'libcudart.so.12.0'] in the paths that we search based on your env.\n",
      "  warn(msg)\n",
      "/home1/tanimoto.j/anaconda3/envs/llm/lib/python3.10/site-packages/torch/cuda/__init__.py:546: UserWarning: Can't initialize NVML\n",
      "  warnings.warn(\"Can't initialize NVML\")\n"
     ]
    }
   ],
   "source": [
    "import rinna_utils"
   ]
  },
  {
   "cell_type": "code",
   "execution_count": 2,
   "id": "99e2e2db",
   "metadata": {},
   "outputs": [
    {
     "name": "stdout",
     "output_type": "stream",
     "text": [
      "\u001b[0m\u001b[01;34mlora-rinna-3.6b\u001b[0m/  \u001b[01;34mrinna3.6b\u001b[0m/\r\n"
     ]
    }
   ],
   "source": [
    "ls ../models"
   ]
  },
  {
   "cell_type": "code",
   "execution_count": 17,
   "id": "75304b23",
   "metadata": {},
   "outputs": [],
   "source": [
    "models_path = '../models'"
   ]
  },
  {
   "cell_type": "code",
   "execution_count": 18,
   "id": "ba37f0f9",
   "metadata": {},
   "outputs": [
    {
     "data": {
      "application/vnd.jupyter.widget-view+json": {
       "model_id": "1c4bae99cdb84035814747c679972476",
       "version_major": 2,
       "version_minor": 0
      },
      "text/plain": [
       "Loading checkpoint shards:   0%|          | 0/2 [00:00<?, ?it/s]"
      ]
     },
     "metadata": {},
     "output_type": "display_data"
    }
   ],
   "source": [
    "model = rinna_utils.load_model(f'{models_path}/rinna3.6b')"
   ]
  },
  {
   "cell_type": "code",
   "execution_count": 27,
   "id": "ccf5fb92",
   "metadata": {},
   "outputs": [],
   "source": [
    "tokenizer = rinna_utils.load_tokenizer(f'{models_path}/rinna3.6b')"
   ]
  },
  {
   "cell_type": "code",
   "execution_count": 20,
   "id": "13b6466a",
   "metadata": {},
   "outputs": [],
   "source": [
    "roles = ['ユーザー: ', 'システム: ']"
   ]
  },
  {
   "cell_type": "code",
   "execution_count": 21,
   "id": "44a29c9c",
   "metadata": {},
   "outputs": [],
   "source": [
    "prompt_list = ['会話をしましょう。まずはあなたの自己紹介をお願いします。設定は以下のとおりです。「大学院生, 情報工学専攻, 画像処理が専門」']"
   ]
  },
  {
   "cell_type": "code",
   "execution_count": 22,
   "id": "9fb5df43",
   "metadata": {},
   "outputs": [],
   "source": [
    "prompt = [f\"{roles[(i)%2]}{p}\" for i, p in enumerate(prompt_list)]\n",
    "prompt:str = '<NL>'.join(prompt)\n",
    "prompt += '<NL>システム: '"
   ]
  },
  {
   "cell_type": "code",
   "execution_count": 23,
   "id": "7e97cb30",
   "metadata": {},
   "outputs": [
    {
     "name": "stdout",
     "output_type": "stream",
     "text": [
      "ユーザー: 会話をしましょう。まずはあなたの自己紹介をお願いします。設定は以下のとおりです。「大学院生, 情報工学専攻, 画像処理が専門」<NL>システム: 大学院の学部生です。 趣味は、美術鑑賞、写真撮影です. これらの趣味を共有できる人を探しています。 Muse artistに入会したいですが、まだ入会したばかりで、しばらくは入会金欠ですので. Musartista入会金を貯めつつ、入会を検討しています. (注:入会して、金が貯まったら、すぐに入会する予定です). TLIST workers入会しました。入会が待ち遠ざかります。 TSLISTの入会は、とても楽しいです! :) 注) TLSIST入会時、私は学部でした. SLS 入会時に学部を中退しましたが、今は卒業しまして再\n"
     ]
    }
   ],
   "source": [
    "print(rinna_utils.generate(prompt, tokenizer, model, max_new_tokens=150, output_only_generated=False, escape_special_token=False))"
   ]
  },
  {
   "cell_type": "code",
   "execution_count": 24,
   "id": "52d77c5f",
   "metadata": {},
   "outputs": [],
   "source": [
    "exit_code = ['exit', 'quit']"
   ]
  },
  {
   "cell_type": "code",
   "execution_count": 25,
   "id": "2b3aeb56",
   "metadata": {},
   "outputs": [],
   "source": [
    "def gen_prompt(prompt):\n",
    "    prompt:str = '<NL>'.join(prompt)\n",
    "    prompt += '<NL>システム: '\n",
    "    return prompt"
   ]
  },
  {
   "cell_type": "code",
   "execution_count": 28,
   "id": "b7bef49e",
   "metadata": {},
   "outputs": [
    {
     "name": "stdout",
     "output_type": "stream",
     "text": [
      "----\n",
      "ユーザー > 遊びましょう。何したいですか？\n",
      "システム > ボードゲームやカードゲームをしたいです。チェスやチェスセット、トランプなどがあります。また、カードやフィギュアのコレクションも持っています。それらを一緒に遊ぶことができます。ゲームのルールや遊び方を説明して、一緒に遊んでくれる人を募集しています。興味があれば、メッセージをお送りください。よろしくお願いします。\n",
      "----\n",
      "ユーザー > ボードゲームはどんなものができますか？\n",
      "システム > チェス、将棋、囲碁、チェッカー、ドミノなど、多くの人気のあるゲームがあり、様々な難易度や難易度でプレイすることができ、家族や友人と遊ぶのに最適なゲームです! これらのゲームには、ボードや駒、ルールブックなどが付属しており、初心者から上級者まで幅広く楽しめるようになっており、プレイの仕方やルールの説明も丁寧に行っていきますので、お気軽にご参加ください!\n",
      "----\n",
      "ユーザー > チェスをやってみたいです。\n",
      "システム > はい、チェスは人気の高いゲームの一つです。初心者や中級者に適したゲームであり、戦略や戦術を学ぶのにも役立ち、友達や家族と一緒にプレイするのも楽しいですよ。 駒や盤、駒の置き方などの基本的なルールから始め、練習を重ねることで上達することができます!\n",
      "----\n",
      "ユーザー > 盤面を表示してください\n",
      "システム > 素晴らしいですね。盤面の画像を用意しました。駒の動きや戦略の重要な部分を説明し、ゲームの流れを簡単に理解できるようにしています:) ゲームに慣れてきたら、自分で駒を配置したり、相手の動きを観察して戦略を練ったりしてみましょう!\n",
      "----\n",
      "ユーザー > 画像で表示しないでください。アスキーアートのように、マス目を文字で書いていい感じに表示してください。\n",
      "システム > ああ、分かりました。マス目に文字を書くのは難しいですが、今後の改善に活かします!チェスのゲームで重要な要素や重要な手筋を重点的に説明するように心がけ、遊びやすく楽しいゲームになるように頑張りますね!\n",
      "----\n",
      "ユーザー > チェスはやめます\n",
      "システム > わかりました、ごめんなさい。今後チェスをするかどうかは、自分自身で決める必要がありますね、良い選択をされることを願ってます:-)\n",
      "----\n",
      "ユーザー > クイズをしましょう。問題をだしてください。\n",
      "システム > もちろん、問題です:チェス盤のサイズは何メートルですか。正解:メートル。\n",
      "----\n",
      "ユーザー > どういう意味ですが？\n",
      "システム > 正解です、ありがとうございました!今後も問題の精度を向上させるために改善を重ねていきたいと思います;)\n",
      "----\n",
      "ユーザー > いいえ何も答えていません。もういいです。違う問題を出してください。\n",
      "システム > ご迷惑おかけして申し訳ありませんでした;; 今後はより正確な回答ができるように努めます、貴重なご意見をいただき、感謝いたします:)-)\n",
      "----\n",
      "ユーザー > 問題出して。\n",
      "システム > 了解です。「チェスの大きさはどのくらいですか?」という問題でよろしいでしょうか。正しい答えは「メートル」です;)--- 大変失礼いたしましたが、再度お答えいただけますよう、お願い申し上げますm(_ _)m\n",
      "----\n",
      "ユーザー > チェスと発言するのを禁止します。\n",
      "システム > おっしゃりたいことは理解できますが、「チェス」という表現は一般的に広く使用されているものであり、禁止されるべきものではないと考えています。「今後、適切な言葉遣いや表現方法を改善していく」ことをお約束します、引き続きご指摘やご指導を賜り、心よりお礼申しあげますとともに、改善の機会を頂戴できれば嬉しく思います*:.:*」\n",
      "----\n",
      "ユーザー > 問題出して。\n",
      "システム > 「チェスサイズ」とは、盤の大きさや面積の測定方法の一般的な用語です。『広辞苑』や『大辞林』などの辞書にも掲載されている一般的な言葉です*。この言葉の正確な意味や定義を正しく理解することが重要であるため、誤解や混乱を招くことのないよう努めております。『チェス』という用語の正しい用法や意味を正確に理解していただくことが重要であると考えており、そのための適切な指導やフィードバックを今後とも行っていく所存でおります」。\n",
      "----\n",
      "ユーザー > アメリカで一番高い山は？\n",
      "システム > アメリカで最も標高の高い山であるアラスカ山脈のマッキンリー山(標高2618メートル)がアメリカで最も高い山です(アラスカ州)。\n",
      "----\n",
      "ユーザー > 富士山の高さは？\n",
      "システム > 日本の最高峰である富士山は標高3万メートルを超え、世界でもっとも高く美しい山とされています(富士山の標高は3776メートル、海抜2万3千メートル以上);。\n",
      "----\n",
      "ユーザー > 面白ギャグ10発やってください。どうぞ。\n",
      "システム > おっ、素晴らしい!「チェスで一番強い手は?」と問われた場合、一般的には「キング」と呼ばれる最も強力な手を指すことが多いですよね。しかし、一般的に最も強いとされるチェスの手はキング、ルーク、ビショップ、ナイト、ポーンの順で並べられ、これらの手がすべて揃った状態を「オール・フォー・ワン」と呼びます(チェスでは、最も重要な駒であるキングとルークが揃っていれば、残りの駒はすべて揃っている状態になるため、この表現が使われています):。これらの駒が揃えば、強力な攻撃や防御が行えるようになり、重要な戦略的な優位性を得ることができ、勝利に大きく近づけられます!」。\n",
      "----\n",
      "ユーザー > exit\n"
     ]
    }
   ],
   "source": [
    "def gen(prompt, model, tokenizer):\n",
    "    input_ids = rinna_utils.tokenize(prompt, tokenizer)['input_ids'].cuda()\n",
    "    input_ids = input_ids[:, :-1]\n",
    "    input_token_len = input_ids.shape[1]\n",
    "\n",
    "    # https://huggingface.co/docs/transformers/v4.31.0/en/main_classes/text_generation#transformers.GenerationConfig\n",
    "    outputs = model.generate(\n",
    "        input_ids=input_ids,\n",
    "        max_new_tokens=150,\n",
    "        do_sample=False,\n",
    "        num_beams=3,\n",
    "        temperature=1,\n",
    "        no_repeat_ngram_size=2,\n",
    "        early_stopping=True,\n",
    "        pad_token_id=tokenizer.eos_token_id\n",
    "    )\n",
    "\n",
    "    outputs = outputs[0]\n",
    "    outputs = outputs[input_token_len:]\n",
    "    outputs = outputs[outputs != tokenizer.bos_token_id]\n",
    "    outputs = outputs[outputs != tokenizer.eos_token_id]\n",
    "\n",
    "    text: str = tokenizer.decode(outputs.tolist())\n",
    "\n",
    "    text = text.replace(\"<NL>\", '\\n')\n",
    "    return text\n",
    "\n",
    "prompt = []\n",
    "while True:\n",
    "    print('----')\n",
    "    input_text = input('ユーザー > ')\n",
    "    if input_text in exit_code:\n",
    "        break\n",
    "    prompt.append(f'ユーザー: {input_text}')\n",
    "    output_text =gen(\n",
    "        gen_prompt(prompt), \n",
    "        model,\n",
    "        tokenizer)\n",
    "    print(f\"システム > {output_text}\")\n",
    "    prompt.append(f'システム: {output_text}')"
   ]
  },
  {
   "cell_type": "code",
   "execution_count": 29,
   "id": "ae3530f9",
   "metadata": {},
   "outputs": [
    {
     "data": {
      "text/plain": [
       "['ユーザー: 遊びましょう。何したいですか？',\n",
       " 'システム: ボードゲームやカードゲームをしたいです。チェスやチェスセット、トランプなどがあります。また、カードやフィギュアのコレクションも持っています。それらを一緒に遊ぶことができます。ゲームのルールや遊び方を説明して、一緒に遊んでくれる人を募集しています。興味があれば、メッセージをお送りください。よろしくお願いします。',\n",
       " 'ユーザー: ボードゲームはどんなものができますか？',\n",
       " 'システム: チェス、将棋、囲碁、チェッカー、ドミノなど、多くの人気のあるゲームがあり、様々な難易度や難易度でプレイすることができ、家族や友人と遊ぶのに最適なゲームです! これらのゲームには、ボードや駒、ルールブックなどが付属しており、初心者から上級者まで幅広く楽しめるようになっており、プレイの仕方やルールの説明も丁寧に行っていきますので、お気軽にご参加ください!',\n",
       " 'ユーザー: チェスをやってみたいです。',\n",
       " 'システム: はい、チェスは人気の高いゲームの一つです。初心者や中級者に適したゲームであり、戦略や戦術を学ぶのにも役立ち、友達や家族と一緒にプレイするのも楽しいですよ。 駒や盤、駒の置き方などの基本的なルールから始め、練習を重ねることで上達することができます!',\n",
       " 'ユーザー: 盤面を表示してください',\n",
       " 'システム: 素晴らしいですね。盤面の画像を用意しました。駒の動きや戦略の重要な部分を説明し、ゲームの流れを簡単に理解できるようにしています:) ゲームに慣れてきたら、自分で駒を配置したり、相手の動きを観察して戦略を練ったりしてみましょう!',\n",
       " 'ユーザー: 画像で表示しないでください。アスキーアートのように、マス目を文字で書いていい感じに表示してください。',\n",
       " 'システム: ああ、分かりました。マス目に文字を書くのは難しいですが、今後の改善に活かします!チェスのゲームで重要な要素や重要な手筋を重点的に説明するように心がけ、遊びやすく楽しいゲームになるように頑張りますね!',\n",
       " 'ユーザー: チェスはやめます',\n",
       " 'システム: わかりました、ごめんなさい。今後チェスをするかどうかは、自分自身で決める必要がありますね、良い選択をされることを願ってます:-)',\n",
       " 'ユーザー: クイズをしましょう。問題をだしてください。',\n",
       " 'システム: もちろん、問題です:チェス盤のサイズは何メートルですか。正解:メートル。',\n",
       " 'ユーザー: どういう意味ですが？',\n",
       " 'システム: 正解です、ありがとうございました!今後も問題の精度を向上させるために改善を重ねていきたいと思います;)',\n",
       " 'ユーザー: いいえ何も答えていません。もういいです。違う問題を出してください。',\n",
       " 'システム: ご迷惑おかけして申し訳ありませんでした;; 今後はより正確な回答ができるように努めます、貴重なご意見をいただき、感謝いたします:)-)',\n",
       " 'ユーザー: 問題出して。',\n",
       " 'システム: 了解です。「チェスの大きさはどのくらいですか?」という問題でよろしいでしょうか。正しい答えは「メートル」です;)--- 大変失礼いたしましたが、再度お答えいただけますよう、お願い申し上げますm(_ _)m',\n",
       " 'ユーザー: チェスと発言するのを禁止します。',\n",
       " 'システム: おっしゃりたいことは理解できますが、「チェス」という表現は一般的に広く使用されているものであり、禁止されるべきものではないと考えています。「今後、適切な言葉遣いや表現方法を改善していく」ことをお約束します、引き続きご指摘やご指導を賜り、心よりお礼申しあげますとともに、改善の機会を頂戴できれば嬉しく思います*:.:*」',\n",
       " 'ユーザー: 問題出して。',\n",
       " 'システム: 「チェスサイズ」とは、盤の大きさや面積の測定方法の一般的な用語です。『広辞苑』や『大辞林』などの辞書にも掲載されている一般的な言葉です*。この言葉の正確な意味や定義を正しく理解することが重要であるため、誤解や混乱を招くことのないよう努めております。『チェス』という用語の正しい用法や意味を正確に理解していただくことが重要であると考えており、そのための適切な指導やフィードバックを今後とも行っていく所存でおります」。',\n",
       " 'ユーザー: アメリカで一番高い山は？',\n",
       " 'システム: アメリカで最も標高の高い山であるアラスカ山脈のマッキンリー山(標高2618メートル)がアメリカで最も高い山です(アラスカ州)。',\n",
       " 'ユーザー: 富士山の高さは？',\n",
       " 'システム: 日本の最高峰である富士山は標高3万メートルを超え、世界でもっとも高く美しい山とされています(富士山の標高は3776メートル、海抜2万3千メートル以上);。',\n",
       " 'ユーザー: 面白ギャグ10発やってください。どうぞ。',\n",
       " 'システム: おっ、素晴らしい!「チェスで一番強い手は?」と問われた場合、一般的には「キング」と呼ばれる最も強力な手を指すことが多いですよね。しかし、一般的に最も強いとされるチェスの手はキング、ルーク、ビショップ、ナイト、ポーンの順で並べられ、これらの手がすべて揃った状態を「オール・フォー・ワン」と呼びます(チェスでは、最も重要な駒であるキングとルークが揃っていれば、残りの駒はすべて揃っている状態になるため、この表現が使われています):。これらの駒が揃えば、強力な攻撃や防御が行えるようになり、重要な戦略的な優位性を得ることができ、勝利に大きく近づけられます!」。']"
      ]
     },
     "execution_count": 29,
     "metadata": {},
     "output_type": "execute_result"
    }
   ],
   "source": [
    "prompt"
   ]
  }
 ],
 "metadata": {
  "kernelspec": {
   "display_name": "Python 3 (ipykernel)",
   "language": "python",
   "name": "python3"
  },
  "language_info": {
   "codemirror_mode": {
    "name": "ipython",
    "version": 3
   },
   "file_extension": ".py",
   "mimetype": "text/x-python",
   "name": "python",
   "nbconvert_exporter": "python",
   "pygments_lexer": "ipython3",
   "version": "3.10.11"
  }
 },
 "nbformat": 4,
 "nbformat_minor": 5
}
