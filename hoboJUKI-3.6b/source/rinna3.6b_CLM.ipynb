{
 "cells": [
  {
   "cell_type": "code",
   "execution_count": 6,
   "id": "05744721",
   "metadata": {},
   "outputs": [],
   "source": [
    "import rinna_utils"
   ]
  },
  {
   "cell_type": "code",
   "execution_count": 12,
   "id": "7d53c1ab",
   "metadata": {},
   "outputs": [
    {
     "name": "stdout",
     "output_type": "stream",
     "text": [
      "\u001b[0m\u001b[01;34mlora-rinna-3.6b\u001b[0m/  \u001b[01;34mrinna3.6b\u001b[0m/\r\n"
     ]
    }
   ],
   "source": [
    "ls ../models"
   ]
  },
  {
   "cell_type": "code",
   "execution_count": 13,
   "id": "7ce2a4dc",
   "metadata": {},
   "outputs": [],
   "source": [
    "models_path = '../models'"
   ]
  },
  {
   "cell_type": "raw",
   "id": "ab868acf",
   "metadata": {},
   "source": [
    "model = rinna_utils.load_model(f'{models_path}/rinna3.6b')"
   ]
  },
  {
   "cell_type": "code",
   "execution_count": 16,
   "id": "c8d63455",
   "metadata": {},
   "outputs": [],
   "source": [
    "tokenizer = rinna_utils.load_tokenizer(f'{models_path}/rinna3.6b')"
   ]
  },
  {
   "cell_type": "code",
   "execution_count": 17,
   "id": "b37377c9",
   "metadata": {},
   "outputs": [],
   "source": [
    "roles = ['ユーザー: ', 'システム: ']"
   ]
  },
  {
   "cell_type": "code",
   "execution_count": 41,
   "id": "c79e0cb1",
   "metadata": {},
   "outputs": [],
   "source": [
    "prompt_list = ['会話をしましょう。まずはあなたの自己紹介をお願いします。設定は以下のとおりです。「大学院生, 情報工学専攻, 画像処理が専門」']"
   ]
  },
  {
   "cell_type": "code",
   "execution_count": 42,
   "id": "e17529fa",
   "metadata": {},
   "outputs": [],
   "source": [
    "prompt = [f\"{roles[(i)%2]}{p}\" for i, p in enumerate(prompt_list)]\n",
    "prompt:str = '<NL>'.join(prompt)\n",
    "prompt += '<NL>システム: '"
   ]
  },
  {
   "cell_type": "code",
   "execution_count": 43,
   "id": "6e997abd",
   "metadata": {},
   "outputs": [
    {
     "name": "stdout",
     "output_type": "stream",
     "text": [
      "ユーザー: 会話をしましょう。まずはあなたの自己紹介をお願いします。設定は以下のとおりです。「大学院生, 情報工学専攻, 画像処理が専門」<NL>システム: 大学院の画像認識に関する研究をしています。 趣味は、スキーやゴルフです。 (研究テーマ:画像の認識) は、画像内の物体の場所を推定するのに役立ちます。また、研究の重要な部分は、認識技術の様々な分野の知識の習得です. (技術テーマ)は研究分野であり、技術的な知識を習得します. 研究に重要な部分であります.また,研究の中心的な部分は研究ですが、重要な部分を習得しています。研究は重要であり,重要な研究の部分です! :).(研究内容)研究では、高度な画像技術を様々な分野で習得することができますが,重要です,中心的な部分です(技術)。(高度な技術分野)の研究は,\n"
     ]
    }
   ],
   "source": [
    "print(rinna_utils.generate(prompt, tokenizer, model, max_new_tokens=150, output_only_generated=False, escape_special_token=False))"
   ]
  },
  {
   "cell_type": "code",
   "execution_count": 44,
   "id": "fad9b44a",
   "metadata": {},
   "outputs": [],
   "source": [
    "exit_code = ['exit', 'quit']"
   ]
  },
  {
   "cell_type": "code",
   "execution_count": 47,
   "id": "f44622b2",
   "metadata": {},
   "outputs": [],
   "source": [
    "def gen_prompt(prompt):\n",
    "    prompt:str = '<NL>'.join(prompt)\n",
    "    prompt += '<NL>システム: '\n",
    "    return prompt"
   ]
  },
  {
   "cell_type": "code",
   "execution_count": 53,
   "id": "053fb9e8",
   "metadata": {},
   "outputs": [
    {
     "name": "stdout",
     "output_type": "stream",
     "text": [
      "ユーザー > 何かやりたいことはありますか？\n",
      "もちろんです。 まず、花や木の剪定点に立って、地面に足跡をつけ、そして、剪りーをし、その後、足音のする方向に向かって歩き、音がする方向に歩き続けることです。そして最後に、すべての方向を回り続けることを約束します。これらの言葉は、自然に流れるような動きを約束しています。また、これらの動きは自然な流れをもたらしてくれるでしょう。最後には約束されています:) これらのことを、動き続けること、約束された方向に向かうことを続けることで、最後にはすべてが自然の流れをたっぷり、また約束されている方向に流れることを誓うために、すべてが約束されて、流れ続けるために約束されることになります。</s>\n",
      "ユーザー > いいね。私と何して遊びたい？\n",
      "素晴らしいですね、一緒にゲームをしたり、散歩したりして、お互いの素晴らしいところを共有したいです! 散歩や、公園での運動、海での水泳や釣り、スキーやスケート、サイクリングやスキーなど、素晴らしい自然のアクティビティを一緒に共有することができます!一緒に自然の中でリラックスした時間を過ごすことができますよ。一緒に散歩をしたい場合は、時間と場所を指定してください。散歩に出かける場合は散歩に行き、運動に出かけますので、その時に一緒にいることができ、楽しい時間を過ごしたいられますように、周りに気づかれることなく、自分の素晴らしいことを共有できますように努めますが、お気の毒な場合はお知らせくださいませ。素晴らしい散歩と運動を楽しみにして\n",
      "ユーザー > exit\n"
     ]
    }
   ],
   "source": [
    "prompt = []\n",
    "while True:\n",
    "    input_text = input('ユーザー > ')\n",
    "    if input_text in exit_code:\n",
    "        break\n",
    "    prompt.append(f'ユーザー: {input_text}')\n",
    "    output_text = rinna_utils.generate(\n",
    "        gen_prompt(prompt), \n",
    "        tokenizer, \n",
    "        model, \n",
    "        max_new_tokens=150, \n",
    "        output_only_generated=True, \n",
    "        escape_special_token=False)\n",
    "    print(output_text)\n",
    "    prompt.append(f'システム: {output_text}')"
   ]
  },
  {
   "cell_type": "code",
   "execution_count": 54,
   "id": "9f77ed88",
   "metadata": {
    "scrolled": true
   },
   "outputs": [
    {
     "data": {
      "text/plain": [
       "['ユーザー: 何かやりたいことはありますか？',\n",
       " 'システム: もちろんです。 まず、花や木の剪定点に立って、地面に足跡をつけ、そして、剪りーをし、その後、足音のする方向に向かって歩き、音がする方向に歩き続けることです。そして最後に、すべての方向を回り続けることを約束します。これらの言葉は、自然に流れるような動きを約束しています。また、これらの動きは自然な流れをもたらしてくれるでしょう。最後には約束されています:) これらのことを、動き続けること、約束された方向に向かうことを続けることで、最後にはすべてが自然の流れをたっぷり、また約束されている方向に流れることを誓うために、すべてが約束されて、流れ続けるために約束されることになります。</s>',\n",
       " 'ユーザー: いいね。私と何して遊びたい？',\n",
       " 'システム: 素晴らしいですね、一緒にゲームをしたり、散歩したりして、お互いの素晴らしいところを共有したいです! 散歩や、公園での運動、海での水泳や釣り、スキーやスケート、サイクリングやスキーなど、素晴らしい自然のアクティビティを一緒に共有することができます!一緒に自然の中でリラックスした時間を過ごすことができますよ。一緒に散歩をしたい場合は、時間と場所を指定してください。散歩に出かける場合は散歩に行き、運動に出かけますので、その時に一緒にいることができ、楽しい時間を過ごしたいられますように、周りに気づかれることなく、自分の素晴らしいことを共有できますように努めますが、お気の毒な場合はお知らせくださいませ。素晴らしい散歩と運動を楽しみにして']"
      ]
     },
     "execution_count": 54,
     "metadata": {},
     "output_type": "execute_result"
    }
   ],
   "source": [
    "prompt"
   ]
  }
 ],
 "metadata": {
  "kernelspec": {
   "display_name": "Python 3 (ipykernel)",
   "language": "python",
   "name": "python3"
  },
  "language_info": {
   "codemirror_mode": {
    "name": "ipython",
    "version": 3
   },
   "file_extension": ".py",
   "mimetype": "text/x-python",
   "name": "python",
   "nbconvert_exporter": "python",
   "pygments_lexer": "ipython3",
   "version": "3.10.11"
  }
 },
 "nbformat": 4,
 "nbformat_minor": 5
}
